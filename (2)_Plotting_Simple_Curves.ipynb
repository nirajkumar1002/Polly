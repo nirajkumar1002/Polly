{
  "nbformat": 4,
  "nbformat_minor": 0,
  "metadata": {
    "colab": {
      "provenance": [],
      "include_colab_link": true
    },
    "kernelspec": {
      "name": "python3",
      "display_name": "Python 3"
    },
    "language_info": {
      "name": "python"
    }
  },
  "cells": [
    {
      "cell_type": "markdown",
      "metadata": {
        "id": "view-in-github",
        "colab_type": "text"
      },
      "source": [
        "<a href=\"https://colab.research.google.com/github/nirajkumar1002/Polly/blob/master/(2)_Plotting_Simple_Curves.ipynb\" target=\"_parent\"><img src=\"https://colab.research.google.com/assets/colab-badge.svg\" alt=\"Open In Colab\"/></a>"
      ]
    },
    {
      "cell_type": "markdown",
      "source": [
        "# Plotting Simple Curves"
      ],
      "metadata": {
        "id": "QM2BAmxAaWpZ"
      }
    },
    {
      "cell_type": "markdown",
      "source": [
        "## Import and Settings\n",
        "\n",
        "We will import `NumPy` and `matplotlib`. In addition, we will also start with some customised layout for the plot."
      ],
      "metadata": {
        "id": "wVwN9M-ZaaV1"
      }
    },
    {
      "cell_type": "code",
      "source": [],
      "metadata": {
        "id": "mT4Fnwyvan_v"
      },
      "execution_count": null,
      "outputs": []
    },
    {
      "cell_type": "markdown",
      "source": [
        "## Partitioning the real line\n",
        "\n",
        "In order to plot a curve, we need a set of $x$ values and the corresponding $y$ values. Since $x$ is the independent variable, we need to first generate a list of values for $x$.\n",
        "\n",
        "In `NumPy`:"
      ],
      "metadata": {
        "id": "9xv2fywOa3Fg"
      }
    },
    {
      "cell_type": "code",
      "source": [],
      "metadata": {
        "id": "9UPo-kdNbZIC"
      },
      "execution_count": null,
      "outputs": []
    },
    {
      "cell_type": "markdown",
      "source": [
        "## Curves\n",
        "\n",
        "We shall plot several curves, starting from simple curvies to more complex ones. In this process, we will also learn how to add simple annotations to the plot."
      ],
      "metadata": {
        "id": "LNVO57h9mFCU"
      }
    },
    {
      "cell_type": "markdown",
      "source": [
        "### Curve-1\n",
        "\n",
        "Plot $y = x$ for $x \\in [0, 1]$. Sample $10$ equally spaced points in this interval, inclusive of endpoints.\n",
        "\n",
        "In `NumPy`:"
      ],
      "metadata": {
        "id": "pcmhOWMImL-0"
      }
    },
    {
      "cell_type": "code",
      "source": [],
      "metadata": {
        "id": "mDK0JG_Pmbu4"
      },
      "execution_count": null,
      "outputs": []
    },
    {
      "cell_type": "markdown",
      "source": [
        "### Curve-2\n",
        "\n",
        "Plot $y = 5 - 3x$ for $x \\in [-5, 5]$. Sample $20$ equally spaced points in this interval, inclusive of endpoints. Add a title to the plot which has the equation of the curve."
      ],
      "metadata": {
        "id": "dKCfbnyLm-wO"
      }
    },
    {
      "cell_type": "code",
      "source": [],
      "metadata": {
        "id": "39rWCV1anLnq"
      },
      "execution_count": null,
      "outputs": []
    },
    {
      "cell_type": "markdown",
      "source": [
        "### Curve-3\n",
        "\n",
        "Plot $y = x^2$ for $x \\in [-1, 1]$. Try out four different samples for `x`:\n",
        "\n",
        "- $5$ equally spaced points in this interval, endpoints inclusive\n",
        "- $10$ equally spaced points in this interval, endpoints inclusive\n",
        "- $20$ equally spaced points in this interval, endpoints inclusive\n",
        "- $50$ equally spaced points in this interval, endpoints inclusive\n",
        "\n",
        "Observe the differences in these four plots. Which one would you choose? Add the equation of the curve as the title of the plot."
      ],
      "metadata": {
        "id": "CntL4DIfoDYY"
      }
    },
    {
      "cell_type": "code",
      "source": [],
      "metadata": {
        "id": "HAOYe_AQocVp"
      },
      "execution_count": null,
      "outputs": []
    },
    {
      "cell_type": "markdown",
      "source": [
        "### Curve-4\n",
        "\n",
        "Plot $y = 3$ and $x = 5$ on the same plot. Color the first one green and the second one red. Limit your plot to the region $x \\in [0, 6]$ and $y \\in [0, 6]$. \n",
        "\n",
        "- Label the x and the y axes. \n",
        "- Add a suitable title.\n",
        "- Add a legend."
      ],
      "metadata": {
        "id": "nxa_tFnKpvt8"
      }
    },
    {
      "cell_type": "code",
      "source": [],
      "metadata": {
        "id": "Pp27B4q_p7jc"
      },
      "execution_count": null,
      "outputs": []
    },
    {
      "cell_type": "markdown",
      "source": [
        "## Subplots\n",
        "\n",
        "Sometimes we may have to plot multiple objects, each in a separate plot. Plot the following curves, each in a separe plot:\n",
        "\n",
        "- $y = \\ln x, \\quad x \\in \\left( \\cfrac{1}{e^2}, e^3 \\right)$\n",
        "\n",
        "- $y = e^x, \\quad x \\in (0, 3)$\n",
        "\n",
        "- $y = \\sin x, \\quad x \\in [0, 2 \\pi]$\n",
        "\n",
        "- $y = \\cfrac{1}{x}, \\quad x \\in (0, 5)$\n",
        "\n",
        "\n",
        "Title each curve appropriately.\n",
        "\n",
        "In `NumPy`:"
      ],
      "metadata": {
        "id": "43f0RjwXRfuu"
      }
    },
    {
      "cell_type": "code",
      "source": [],
      "metadata": {
        "id": "X-M0aV8wSd2u"
      },
      "execution_count": null,
      "outputs": []
    }
  ]
}